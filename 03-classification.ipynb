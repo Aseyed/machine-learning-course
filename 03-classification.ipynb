{
 "cells": [
  {
   "cell_type": "markdown",
   "metadata": {},
   "source": [
    "# Classification"
   ]
  },
  {
   "cell_type": "code",
   "execution_count": 1,
   "metadata": {
    "collapsed": true
   },
   "outputs": [],
   "source": [
    "import pandas as pd\n",
    "from matplotlib import pyplot as plt\n",
    "%matplotlib inline"
   ]
  },
  {
   "cell_type": "code",
   "execution_count": 2,
   "metadata": {},
   "outputs": [],
   "source": [
    "from sklearn.datasets import load_breast_cancer\n",
    "cancer = load_breast_cancer()"
   ]
  },
  {
   "cell_type": "code",
   "execution_count": 3,
   "metadata": {},
   "outputs": [
    {
     "data": {
      "text/plain": [
       "array(['malignant', 'benign'],\n",
       "      dtype='<U9')"
      ]
     },
     "execution_count": 3,
     "metadata": {},
     "output_type": "execute_result"
    }
   ],
   "source": [
    "cancer['target_names']"
   ]
  },
  {
   "cell_type": "code",
   "execution_count": 4,
   "metadata": {},
   "outputs": [
    {
     "data": {
      "text/plain": [
       "array(['mean radius', 'mean texture', 'mean perimeter', 'mean area',\n",
       "       'mean smoothness', 'mean compactness', 'mean concavity',\n",
       "       'mean concave points', 'mean symmetry', 'mean fractal dimension',\n",
       "       'radius error', 'texture error', 'perimeter error', 'area error',\n",
       "       'smoothness error', 'compactness error', 'concavity error',\n",
       "       'concave points error', 'symmetry error', 'fractal dimension error',\n",
       "       'worst radius', 'worst texture', 'worst perimeter', 'worst area',\n",
       "       'worst smoothness', 'worst compactness', 'worst concavity',\n",
       "       'worst concave points', 'worst symmetry', 'worst fractal dimension'],\n",
       "      dtype='<U23')"
      ]
     },
     "execution_count": 4,
     "metadata": {},
     "output_type": "execute_result"
    }
   ],
   "source": [
    "cancer['feature_names']"
   ]
  },
  {
   "cell_type": "code",
   "execution_count": 5,
   "metadata": {},
   "outputs": [],
   "source": [
    "X = cancer['data'][:, 0]\n",
    "X = X.reshape((X.shape[0], 1))\n",
    "y = cancer['target']\n",
    "y = 1 - y.reshape((y.shape[0], 1))"
   ]
  },
  {
   "cell_type": "code",
   "execution_count": 6,
   "metadata": {},
   "outputs": [
    {
     "data": {
      "text/plain": [
       "<matplotlib.collections.PathCollection at 0x7f40b76115c0>"
      ]
     },
     "execution_count": 6,
     "metadata": {},
     "output_type": "execute_result"
    },
    {
     "data": {
      "image/png": "[encoded data removed]",
      "text/plain": [
       "<matplotlib.figure.Figure at 0x7f40b9ac2c50>"
      ]
     },
     "metadata": {},
     "output_type": "display_data"
    }
   ],
   "source": [
    "plt.scatter(X, y)"
   ]
  },
  {
   "cell_type": "code",
   "execution_count": 7,
   "metadata": {},
   "outputs": [],
   "source": [
    "from sklearn.linear_model import LinearRegression\n",
    "model = LinearRegression().fit(X, y)"
   ]
  },
  {
   "cell_type": "code",
   "execution_count": 8,
   "metadata": {},
   "outputs": [
    {
     "data": {
      "image/png": "[encoded data removed]",
      "text/plain": [
       "<matplotlib.figure.Figure at 0x7f40b5132b38>"
      ]
     },
     "metadata": {},
     "output_type": "display_data"
    }
   ],
   "source": [
    "plt.scatter(X, y);\n",
    "plt.plot(X, model.predict(X));"
   ]
  },
  {
   "cell_type": "markdown",
   "metadata": {},
   "source": [
    "---\n",
    "## Logistic Regression"
   ]
  },
  {
   "cell_type": "markdown",
   "metadata": {},
   "source": [
    "### Hypothesis\n",
    "\n",
    "$$ h_\\theta(x) = g(\\theta^Tx) = \\frac{1}{1 + e^{-\\theta^Tx}} $$\n",
    "\n",
    "where $ g(z) = \\frac{1}{1 + e^{-z}} $ is the sigmoid function:\n",
    "\n",
    "![sigmoid](images/logistic-regression/sigmoid.png)"
   ]
  },
  {
   "cell_type": "code",
   "execution_count": 9,
   "metadata": {},
   "outputs": [],
   "source": [
    "from sklearn.linear_model import LogisticRegression\n",
    "model = LogisticRegression().fit(X, y.ravel())"
   ]
  },
  {
   "cell_type": "code",
   "execution_count": 10,
   "metadata": {},
   "outputs": [
    {
     "data": {
      "image/png": "[encoded data removed]",
      "text/plain": [
       "<matplotlib.figure.Figure at 0x7f40b4960cf8>"
      ]
     },
     "metadata": {},
     "output_type": "display_data"
    }
   ],
   "source": [
    "plt.scatter(X, y, c=model.predict(X), cmap=plt.cm.rainbow, marker='.');\n",
    "plt.scatter(X, model.predict_proba(X)[:, 1], marker='.');\n",
    "plt.axhline(.5);\n",
    "plt.axvline(-model.intercept_ / model.coef_);"
   ]
  },
  {
   "cell_type": "markdown",
   "metadata": {},
   "source": [
    "### Cost Function\n",
    "\n",
    "$$ J_\\theta(X) = -\\frac{1}{m}\\sum_{i=1}^m y^{(i)} \\log(h_\\theta(x^{(i)})) + (1 - y^{(i)}) \\log(1 - h_\\theta(x^{(i)})) $$"
   ]
  },
  {
   "cell_type": "markdown",
   "metadata": {},
   "source": [
    "### Gradient Descent\n",
    "\n",
    "$\n",
    "Repeat \\  \\{ \\\\\n",
    "    \\theta_j := \\theta_j - \\alpha \\frac{\\partial}{\\partial \\theta_j} J_\\theta(X) \\\\\n",
    "\\}$\n",
    "\n",
    "where:\n",
    "\n",
    "$ \\begin{equation}\n",
    "   \\begin{split}\n",
    "       \\frac{\\partial J_\\theta(X)}{\\partial \\theta_j}\n",
    "       &= \\frac{\\partial}{\\partial \\theta_j} \\frac{-1}{m}\\sum_{i=1}^m y^{(i)} \\log(h_\\theta(x^{(i)})) + (1 - y^{(i)}) \\log(1 - h_\\theta(x^{(i)})) \\\\\n",
    "       &= -\\frac{1}{m}\\sum_{i=1}^m (\\frac{y^{(i)}}{h_\\theta(x^{(i)})} - \\frac{1 - y^{(i)}}{1 - h_\\theta(x^{(i)})}) \\frac{\\partial}{\\partial \\theta_j} h_\\theta(x^{(i)}) \\\\\n",
    "       &= -\\frac{1}{m}\\sum_{i=1}^m (\\frac{y^{(i)}}{g(\\theta^Tx)} - \\frac{1 - y^{(i)}}{1 - g(\\theta^Tx)}) g(\\theta^Tx) (1 - g(\\theta^Tx)) \\frac{\\partial}{\\partial \\theta_j} (\\theta^Tx^{(i)}) \\\\\n",
    "       &= -\\frac{1}{m}\\sum_{i=1}^m (y^{(i)} (1 - g(\\theta^Tx)) - (1 - y^{(i)}) g(\\theta^Tx))x_j^{(i)} \\\\\n",
    "       &= \\frac{1}{m}\\sum_{i=1}^m (h_{w,b}(x^{(i)}) - y^{(i)})x_j^{(i)}\n",
    "   \\end{split}\n",
    "   \\end{equation} $\n",
    "\n",
    "and:\n",
    "\n",
    "$ \\begin{equation}\n",
    "   \\begin{split}\n",
    "       g'(z) &= \\frac{d}{dz} \\frac{1}{1 + e^{-z}} \\\\\n",
    "       &= \\frac{1}{(1 + e^{-z})^2}(e^{-z}) \\\\\n",
    "       &= \\frac{1}{1 + e^{-z}}.(1 - \\frac{1}{1 + e^{-z}}) \\\\\n",
    "       &= g(z)(1 - g(z))\n",
    "   \\end{split}\n",
    "   \\end{equation} $"
   ]
  },
  {
   "cell_type": "markdown",
   "metadata": {},
   "source": [
    "---\n",
    "## Multiclass\n",
    "\n",
    "<img style=\"float: left;\" width=\"450\" src=\"images/logistic-regression/multinomial.png\">\n",
    "\n",
    "<img style=\"float: left;\" width=\"450\" src=\"images/logistic-regression/ovr.png\">"
   ]
  }
 ],
 "metadata": {
  "kernelspec": {
   "display_name": "Python 3",
   "language": "python",
   "name": "python3"
  },
  "language_info": {
   "codemirror_mode": {
    "name": "ipython",
    "version": 3
   },
   "file_extension": ".py",
   "mimetype": "text/x-python",
   "name": "python",
   "nbconvert_exporter": "python",
   "pygments_lexer": "ipython3",
   "version": "3.5.2"
  }
 },
 "nbformat": 4,
 "nbformat_minor": 2
}
