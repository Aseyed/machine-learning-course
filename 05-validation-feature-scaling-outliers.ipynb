{
 "cells": [
  {
   "cell_type": "markdown",
   "metadata": {},
   "source": [
    "## Bias vs. Variance\n",
    "\n"
   ]
  },
  {
   "cell_type": "markdown",
   "metadata": {},
   "source": [
    "* We need to distinguish whether bias or variance is the problem contributing to bad predictions.\n",
    "* High bias is underfitting and high variance is overfitting. Ideally, we need to find a golden mean between these two.\n"
   ]
  },
  {
   "cell_type": "markdown",
   "metadata": {},
   "source": [
    "The training error will tend to decrease as we increase the degree d of the polynomial.\n",
    "\n"
   ]
  },
  {
   "cell_type": "markdown",
   "metadata": {},
   "source": [
    "At the same time, the cross validation error will tend to decrease as we increase d up to a point, and then it will increase as d is increased, forming a convex curve.\n",
    "\n"
   ]
  },
  {
   "cell_type": "markdown",
   "metadata": {},
   "source": [
    "**High bias (underfitting): both $J_{train}(\\theta)$ and $J_{cv}(\\theta)$ will be high. Also, $J_{cv}(\\theta)$≈$J_{train}(\\theta)$.**\n",
    "\n",
    "**High variance (overfitting): $J_{train}(\\theta)$ will be low and $J_{cv}(\\theta)$ will be much greater than $J_{train}(\\theta)$.**\n",
    "\n"
   ]
  },
  {
   "cell_type": "markdown",
   "metadata": {},
   "source": [
    "![](images/bias_var/unov1.jpg)\n",
    "\n"
   ]
  },
  {
   "cell_type": "markdown",
   "metadata": {
    "collapsed": true
   },
   "source": [
    "![](images/bias_var/model_comp.png) \n"
   ]
  },
  {
   "cell_type": "markdown",
   "metadata": {},
   "source": [
    "## Model Selection and Train/Validation/Test Sets\n"
   ]
  },
  {
   "cell_type": "markdown",
   "metadata": {},
   "source": [
    "\n",
    "Just because a learning algorithm fits a training set well, that does not mean it is a good hypothesis. It could over fit and as a result your predictions on the test set would be poor. The error of your hypothesis as measured on the data set with which you trained the parameters will be lower than the error on any other data set.\n",
    "\n",
    "Given many models with different polynomial degrees, we can use a systematic approach to identify the 'best' function. In order to choose the model of your hypothesis, you can test each degree of polynomial and look at the error result.\n",
    "\n",
    "\n"
   ]
  },
  {
   "cell_type": "markdown",
   "metadata": {},
   "source": [
    "One way to break down our dataset into the three sets is:\n",
    "\n",
    "**Training set: 60%** <br>\n",
    "**Cross validation set: 20% **<br>\n",
    "**Test set: 20%** <br>\n"
   ]
  },
  {
   "cell_type": "markdown",
   "metadata": {},
   "source": [
    "##  Regularization"
   ]
  },
  {
   "cell_type": "markdown",
   "metadata": {},
   "source": [
    "**Penalize** and make some of the **θ** parameters **really small**\n",
    "<br> here θ3 and θ4"
   ]
  },
  {
   "cell_type": "markdown",
   "metadata": {},
   "source": [
    "\n",
    "$\\begin{equation}\\begin{split}\\min_\\theta\\frac{1}{2m}\\sum_{i=1}^{\\infty}(h_{\\theta}(x^(i)-y^(i))) +( 1000 *\\theta_3^2 + 1000 * \\theta_4^2)\\end{split}\\end{equation}$"
   ]
  },
  {
   "cell_type": "markdown",
   "metadata": {},
   "source": [
    "* The addition in blue is a modification of our cost function to help penalize θ3 and θ4 <br>\n",
    " * So here we end up with $\\theta_3$ and $\\theta_4$ being close to zero (because the constants are massive)\n",
    "  * So we're basically left with a quadratic function\n"
   ]
  },
  {
   "cell_type": "markdown",
   "metadata": {},
   "source": [
    "![](images/bias_var/regu2.png)"
   ]
  },
  {
   "cell_type": "markdown",
   "metadata": {},
   "source": [
    "$\\theta_0 + \\theta_1x + \\theta_2x^2 +\\underline {\\theta_3x^3} + \\underline{\\theta_4x^4}$"
   ]
  },
  {
   "cell_type": "markdown",
   "metadata": {},
   "source": [
    "* In this example, we penalized two of the parameter values\n",
    "   * More generally, regularization is as follows"
   ]
  },
  {
   "cell_type": "markdown",
   "metadata": {},
   "source": [
    "#### Cost function"
   ]
  },
  {
   "cell_type": "markdown",
   "metadata": {},
   "source": [
    "$\\begin{equation}\\begin{split}J(\\theta) = \\frac{1}{2m}[ \\sum_{i=1}^{m} (h_\\theta(x^{(i)})-y^{(i)})^2 + \\lambda \\sum_{i=1}^{n}\\theta_j^2]\\end{split}\\end{equation}$"
   ]
  },
  {
   "cell_type": "markdown",
   "metadata": {},
   "source": [
    "* warning: update $\\theta_0$ like previous because  for regularization we don't penalize θ0 so treat it slightly differently"
   ]
  },
  {
   "cell_type": "markdown",
   "metadata": {},
   "source": [
    "$\\begin{equation}\\begin{split}\\theta_j := \\theta_j - \\alpha [\\frac{1}{m}\\sum_{i=1}^{m}(h_\\theta(x^{(i)})-y^{(i)})x_j^{(i)} + \\frac{\\lambda}{m}\\theta_j]\\\\{(j=1,2,3,..,n)}\\end{split}\\end{equation}$"
   ]
  },
  {
   "cell_type": "markdown",
   "metadata": {},
   "source": [
    "![](images/bias_var/lambda.jpg)"
   ]
  },
  {
   "cell_type": "markdown",
   "metadata": {},
   "source": [
    "## k-fold cross-validation"
   ]
  },
  {
   "cell_type": "markdown",
   "metadata": {},
   "source": [
    "In k-fold cross-validation, the original sample is randomly partitioned into k equal sized subsamples.Of the k subsamples, a single subsample is retained as the validation data for testing the model, and the remaining k − 1 subsamples are used as training data. The cross-validation process is then repeated k times (the folds), with each of the k subsamples used exactly once as the validation data. The k results from the folds can then be averaged to produce a single estimation. The advantage of this method over repeated random sub-sampling (see below) is that all observations are used for both training and validation, and each observation is used for validation exactly once."
   ]
  },
  {
   "cell_type": "markdown",
   "metadata": {},
   "source": [
    "![](images/bias_var/k-fold.png)"
   ]
  },
  {
   "cell_type": "markdown",
   "metadata": {},
   "source": [
    "## Debugging learning algorithms"
   ]
  },
  {
   "cell_type": "markdown",
   "metadata": {},
   "source": [
    "* **Getting more training examples: Fixes high variance**\n",
    "* **Trying smaller sets of features: Fixes high variance**\n",
    "* **Adding features: Fixes high bias**\n",
    "* **Adding polynomial features: Fixes high bias**\n",
    "* **Decreasing λ: Fixes high bias**\n",
    "* **Increasing λ: Fixes high variance.**\n"
   ]
  }
 ],
 "metadata": {
  "kernelspec": {
   "display_name": "Python 3",
   "language": "python",
   "name": "python3"
  },
  "language_info": {
   "codemirror_mode": {
    "name": "ipython",
    "version": 3
   },
   "file_extension": ".py",
   "mimetype": "text/x-python",
   "name": "python",
   "nbconvert_exporter": "python",
   "pygments_lexer": "ipython3",
   "version": "3.5.3"
  }
 },
 "nbformat": 4,
 "nbformat_minor": 2
}
